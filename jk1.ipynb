{
  "nbformat": 4,
  "nbformat_minor": 0,
  "metadata": {
    "colab": {
      "name": "jk1.ipynb",
      "provenance": [],
      "collapsed_sections": [],
      "authorship_tag": "ABX9TyPTZG6LkoIqHlnQuuByD6ql",
      "include_colab_link": true
    },
    "kernelspec": {
      "name": "python3",
      "display_name": "Python 3"
    },
    "language_info": {
      "name": "python"
    }
  },
  "cells": [
    {
      "cell_type": "markdown",
      "metadata": {
        "id": "view-in-github",
        "colab_type": "text"
      },
      "source": [
        "<a href=\"https://colab.research.google.com/github/Aravinda89/chatbot/blob/main/jk1.ipynb\" target=\"_parent\"><img src=\"https://colab.research.google.com/assets/colab-badge.svg\" alt=\"Open In Colab\"/></a>"
      ]
    },
    {
      "cell_type": "code",
      "execution_count": 2,
      "metadata": {
        "colab": {
          "base_uri": "https://localhost:8080/"
        },
        "id": "I2K8Cn3947pF",
        "outputId": "5c4cb229-6760-41c5-dcdf-93b142cd3990"
      },
      "outputs": [
        {
          "output_type": "stream",
          "name": "stdout",
          "text": [
            "Looking in indexes: https://pypi.org/simple, https://us-python.pkg.dev/colab-wheels/public/simple/\n",
            "Requirement already satisfied: pyfiglet in /usr/local/lib/python3.7/dist-packages (0.8.post1)\n",
            "Looking in indexes: https://pypi.org/simple, https://us-python.pkg.dev/colab-wheels/public/simple/\n",
            "Requirement already satisfied: requests in /usr/local/lib/python3.7/dist-packages (2.23.0)\n",
            "Requirement already satisfied: certifi>=2017.4.17 in /usr/local/lib/python3.7/dist-packages (from requests) (2022.6.15)\n",
            "Requirement already satisfied: urllib3!=1.25.0,!=1.25.1,<1.26,>=1.21.1 in /usr/local/lib/python3.7/dist-packages (from requests) (1.24.3)\n",
            "Requirement already satisfied: chardet<4,>=3.0.2 in /usr/local/lib/python3.7/dist-packages (from requests) (3.0.4)\n",
            "Requirement already satisfied: idna<3,>=2.5 in /usr/local/lib/python3.7/dist-packages (from requests) (2.10)\n"
          ]
        }
      ],
      "source": [
        "!pip install pyfiglet\n",
        "!pip install requests"
      ]
    },
    {
      "cell_type": "code",
      "source": [
        "import requests\n",
        "import pyfiglet\n",
        "import termcolor\n",
        "from random import choice"
      ],
      "metadata": {
        "id": "ur6TlV-16C8n"
      },
      "execution_count": 3,
      "outputs": []
    },
    {
      "cell_type": "code",
      "source": [
        "header = pyfiglet.figlet_format(\"Find a joke!\")\n",
        "header = termcolor.colored(header, color=\"red\")\n",
        "print(header)"
      ],
      "metadata": {
        "colab": {
          "base_uri": "https://localhost:8080/"
        },
        "id": "9LjDqyhM6UdC",
        "outputId": "d14be87a-eae2-4497-c267-74ede8f6d5ee"
      },
      "execution_count": 8,
      "outputs": [
        {
          "output_type": "stream",
          "name": "stdout",
          "text": [
            "\u001b[31m _____ _           _             _       _        _ \n",
            "|  ___(_)_ __   __| |   __ _    (_) ___ | | _____| |\n",
            "| |_  | | '_ \\ / _` |  / _` |   | |/ _ \\| |/ / _ \\ |\n",
            "|  _| | | | | | (_| | | (_| |   | | (_) |   <  __/_|\n",
            "|_|   |_|_| |_|\\__,_|  \\__,_|  _/ |\\___/|_|\\_\\___(_)\n",
            "                              |__/                  \n",
            "\u001b[0m\n"
          ]
        }
      ]
    },
    {
      "cell_type": "code",
      "source": [
        "term = input(\"Let me tell you a joke! Give me a topic: \")\n",
        "term"
      ],
      "metadata": {
        "colab": {
          "base_uri": "https://localhost:8080/",
          "height": 53
        },
        "id": "P4l-gTcv6Xhp",
        "outputId": "22c8619c-4110-44c2-b077-542dc59d3e19"
      },
      "execution_count": 9,
      "outputs": [
        {
          "name": "stdout",
          "output_type": "stream",
          "text": [
            "Let me tell you a joke! Give me a topic: apple\n"
          ]
        },
        {
          "output_type": "execute_result",
          "data": {
            "text/plain": [
              "'apple'"
            ],
            "application/vnd.google.colaboratory.intrinsic+json": {
              "type": "string"
            }
          },
          "metadata": {},
          "execution_count": 9
        }
      ]
    },
    {
      "cell_type": "code",
      "source": [
        "response_json = requests.get(\"https://icanhazdadjoke.com/search\",\n",
        "                             headers={\"Accept\": \"application/json\"}, params={\"term\": term}).json()"
      ],
      "metadata": {
        "id": "4U2tn9Qs6n2_"
      },
      "execution_count": 10,
      "outputs": []
    },
    {
      "cell_type": "code",
      "source": [
        "results = response_json[\"results\"]\n",
        "  \n",
        "total_jokes = response_json[\"total_jokes\"]\n",
        "print(total_jokes)"
      ],
      "metadata": {
        "colab": {
          "base_uri": "https://localhost:8080/"
        },
        "id": "K5QgtcRH60TZ",
        "outputId": "e2b8342e-c5f8-44d6-c30f-5d3aa836a0b7"
      },
      "execution_count": 12,
      "outputs": [
        {
          "output_type": "stream",
          "name": "stdout",
          "text": [
            "4\n"
          ]
        }
      ]
    },
    {
      "cell_type": "code",
      "source": [
        "if total_jokes > 1:\n",
        "    print(f\"I've got {total_jokes} jokes about {term}. Here's one:\\n\", choice(\n",
        "        results)['joke'])\n",
        "  \n",
        "elif total_jokes == 1:\n",
        "    print(f\"I've got one joke about {term}. Here it is:\\n\", results[0]['joke'])\n",
        "  \n",
        "else:\n",
        "    print(f\"Sorry, I don't have any jokes about {term}! Please try again.\")"
      ],
      "metadata": {
        "colab": {
          "base_uri": "https://localhost:8080/"
        },
        "id": "pM1sbegg62zX",
        "outputId": "3433e749-6926-4ebf-afc9-63db0236e7b2"
      },
      "execution_count": 13,
      "outputs": [
        {
          "output_type": "stream",
          "name": "stdout",
          "text": [
            "I've got 4 jokes about apple. Here's one:\n",
            " An apple a day keeps the bullies away. If you throw it hard enough.\n"
          ]
        }
      ]
    },
    {
      "cell_type": "code",
      "source": [
        ""
      ],
      "metadata": {
        "id": "I-5pBkQd7FHm"
      },
      "execution_count": null,
      "outputs": []
    }
  ]
}